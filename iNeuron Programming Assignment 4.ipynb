{
 "cells": [
  {
   "cell_type": "markdown",
   "id": "9e99f243",
   "metadata": {},
   "source": [
    "## Name : Purnanand Kulkarni\n",
    "## iNeuron Programming Assignment 4"
   ]
  },
  {
   "cell_type": "markdown",
   "id": "043b9b47",
   "metadata": {},
   "source": [
    "Question-1) Write a Python Program to Find the Factorial of a Number?"
   ]
  },
  {
   "cell_type": "code",
   "execution_count": 1,
   "id": "ca527d20",
   "metadata": {},
   "outputs": [
    {
     "name": "stdout",
     "output_type": "stream",
     "text": [
      "Enter a number to find factorial : 23\n",
      "The fatorial of the number  23 is 25852016738884976640000\n"
     ]
    }
   ],
   "source": [
    "n=int(input(\"Enter a number to find factorial : \"))\n",
    "f=1\n",
    "for i in range(1,n+1):\n",
    "    f*=i\n",
    "print(\"The fatorial of the number \",n,\"is\",f)"
   ]
  },
  {
   "cell_type": "markdown",
   "id": "b8fa7476",
   "metadata": {},
   "source": [
    "Question-2)Write a Python Program to Display the multiplication Table?"
   ]
  },
  {
   "cell_type": "code",
   "execution_count": 3,
   "id": "9f86eb75",
   "metadata": {},
   "outputs": [
    {
     "name": "stdout",
     "output_type": "stream",
     "text": [
      "Enter a number whose table you want:12\n",
      "The table of 12 is : \n",
      "12 * 1 = 12\n",
      "12 * 2 = 24\n",
      "12 * 3 = 36\n",
      "12 * 4 = 48\n",
      "12 * 5 = 60\n",
      "12 * 6 = 72\n",
      "12 * 7 = 84\n",
      "12 * 8 = 96\n",
      "12 * 9 = 108\n",
      "12 * 10 = 120\n"
     ]
    }
   ],
   "source": [
    "n=int(input(\"Enter a number whose table you want:\"))\n",
    "print(f\"The table of {n} is : \")\n",
    "for i in range(1,11):\n",
    "    print(n,\"*\",i,\"=\",n*i)"
   ]
  },
  {
   "cell_type": "markdown",
   "id": "495dfd99",
   "metadata": {},
   "source": [
    "Question-3)Write a Python Program to Print the Fibonacci sequence?"
   ]
  },
  {
   "cell_type": "code",
   "execution_count": 7,
   "id": "a7b12825",
   "metadata": {},
   "outputs": [
    {
     "name": "stdout",
     "output_type": "stream",
     "text": [
      "Number of terms you want from the Fibonacci Sequence : 21\n",
      "Fibonacci sequence upto 21 terms is : \n",
      "0 1 1 2 3 5 8 13 21 34 55 89 144 233 377 610 987 1597 2584 4181 6765 "
     ]
    }
   ],
   "source": [
    "\n",
    "n = int(input(\"Number of terms you want from the Fibonacci Sequence : \"))\n",
    "a,b = 0, 1\n",
    "count = 0\n",
    "if n <= 0:\n",
    "   print(\"Please enter a positive integer\")\n",
    "elif n == 1:\n",
    "   print(f\"Fibonacci sequence upto {n} terms is : \")\n",
    "   print(a, end=\" \")\n",
    "else:\n",
    "   print(f\"Fibonacci sequence upto {n} terms is : \")\n",
    "   while count < n:\n",
    "       print(a, end=\" \")\n",
    "       c = a+b\n",
    "      \n",
    "       a = b\n",
    "       b = c\n",
    "       count += 1"
   ]
  },
  {
   "cell_type": "markdown",
   "id": "e3df960d",
   "metadata": {},
   "source": [
    "Question-4)Write a Python Program to Check Armstrong Number?"
   ]
  },
  {
   "cell_type": "code",
   "execution_count": 10,
   "id": "14b6a583",
   "metadata": {},
   "outputs": [
    {
     "name": "stdout",
     "output_type": "stream",
     "text": [
      "Enter a number to check if it's an Armstrong Number : 9474\n",
      "9474 is an Armstrong Number\n"
     ]
    }
   ],
   "source": [
    "x = int(input(\"Enter a number to check if it's an Armstrong Number : \"))\n",
    "s = str(x)\n",
    "n = len(s)\n",
    "n\n",
    "y = 0\n",
    "for i in range(n):\n",
    "    y += int(s[i])**n\n",
    "if y == x :\n",
    "    print(f\"{x} is an Armstrong Number\")\n",
    "else :\n",
    "    print(f\"{x} is not an Armstrong Number\")"
   ]
  },
  {
   "cell_type": "markdown",
   "id": "2c337d21",
   "metadata": {},
   "source": [
    "Question-5)Write a Python Program to Find Armstrong Number in an Interval?"
   ]
  },
  {
   "cell_type": "code",
   "execution_count": 11,
   "id": "3317ddef",
   "metadata": {},
   "outputs": [
    {
     "name": "stdout",
     "output_type": "stream",
     "text": [
      "Lower value of Interval : 0\n",
      "Higher value of Interval : 1000\n",
      "The Armstrong Numbers between 0 and 1000 are : [0, 1, 2, 3, 4, 5, 6, 7, 8, 9, 153, 370, 371, 407]\n"
     ]
    }
   ],
   "source": [
    "a = int(input(\"Lower value of Interval : \"))\n",
    "b = int(input(\"Higher value of Interval : \"))\n",
    "l = []\n",
    "for x in range(a,b):\n",
    "    s = str(x)\n",
    "    n = len(s)\n",
    "    y = 0\n",
    "    for i in range(n):\n",
    "        y += int(s[i])**n\n",
    "    if y == x :\n",
    "        l.append(y)\n",
    "print(f\"The Armstrong Numbers between {a} and {b} are : {l}\")"
   ]
  },
  {
   "cell_type": "markdown",
   "id": "0280aa86",
   "metadata": {},
   "source": [
    "Question-6)Write a Python Program to Find the Sum of Natural Numbers?"
   ]
  },
  {
   "cell_type": "code",
   "execution_count": 12,
   "id": "fa5fc2a9",
   "metadata": {},
   "outputs": [
    {
     "name": "stdout",
     "output_type": "stream",
     "text": [
      "Enter a Number : 7\n",
      "The sum of first 7 numbers is :  28\n"
     ]
    }
   ],
   "source": [
    "n=int(input(\"Enter a Number : \"))\n",
    "print(f\"The sum of first {n} numbers is : \",int(n*(n+1)/2))"
   ]
  }
 ],
 "metadata": {
  "kernelspec": {
   "display_name": "Python 3",
   "language": "python",
   "name": "python3"
  },
  "language_info": {
   "codemirror_mode": {
    "name": "ipython",
    "version": 3
   },
   "file_extension": ".py",
   "mimetype": "text/x-python",
   "name": "python",
   "nbconvert_exporter": "python",
   "pygments_lexer": "ipython3",
   "version": "3.8.8"
  }
 },
 "nbformat": 4,
 "nbformat_minor": 5
}
