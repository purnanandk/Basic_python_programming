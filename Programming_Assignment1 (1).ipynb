{
 "cells": [
  {
   "cell_type": "markdown",
   "id": "13f54395",
   "metadata": {},
   "source": [
    "Name : Purnanand Kulkarni"
   ]
  },
  {
   "cell_type": "markdown",
   "id": "70363b27",
   "metadata": {},
   "source": [
    "Programming Assignment 1"
   ]
  },
  {
   "cell_type": "markdown",
   "id": "68af08a9",
   "metadata": {},
   "source": [
    "Question 1) Write a Python program to print \"Hello Python\"?"
   ]
  },
  {
   "cell_type": "code",
   "execution_count": 1,
   "id": "6448f38a",
   "metadata": {},
   "outputs": [
    {
     "name": "stdout",
     "output_type": "stream",
     "text": [
      "Hello Python\n"
     ]
    }
   ],
   "source": [
    "#Answer 1)\n",
    "print(\"Hello Python\")"
   ]
  },
  {
   "cell_type": "markdown",
   "id": "0fc11c9b",
   "metadata": {},
   "source": [
    "Question 2) Write a Python program to do arithmetical operations addition and division.?"
   ]
  },
  {
   "cell_type": "code",
   "execution_count": 2,
   "id": "eda1793f",
   "metadata": {},
   "outputs": [
    {
     "name": "stdout",
     "output_type": "stream",
     "text": [
      "20\n",
      "10\n",
      "This is the addition of your numbers :  30\n",
      "This is the division of your numbers :  2.0\n"
     ]
    }
   ],
   "source": [
    "#Answer 2)\n",
    "a = int(input())\n",
    "b = int(input())\n",
    "print(\"This is the addition of your numbers : \", a+b)\n",
    "print(\"This is the division of your numbers : \", a/b)"
   ]
  },
  {
   "cell_type": "markdown",
   "id": "defb46bf",
   "metadata": {},
   "source": [
    "Question 3) Write a Python program to find the area of a triangle?"
   ]
  },
  {
   "cell_type": "code",
   "execution_count": 3,
   "id": "5ca0c1dd",
   "metadata": {},
   "outputs": [
    {
     "name": "stdout",
     "output_type": "stream",
     "text": [
      "Enter height of the Triangle : 45\n",
      "Enter the base of the Triangle : 12\n",
      "The area of the Triangle is : 270.0\n"
     ]
    }
   ],
   "source": [
    "#Answer 3)\n",
    "height = int(input(\"Enter height of the Triangle : \"))\n",
    "base = int(input(\"Enter the base of the Triangle : \"))\n",
    "Area = 0.5*base*height\n",
    "print(f\"The area of the Triangle is : {Area}\")"
   ]
  },
  {
   "cell_type": "markdown",
   "id": "4ac586fc",
   "metadata": {},
   "source": [
    "Question 4) Write a Python program to swap two variables?"
   ]
  },
  {
   "cell_type": "code",
   "execution_count": 4,
   "id": "32f84ef0",
   "metadata": {},
   "outputs": [
    {
     "name": "stdout",
     "output_type": "stream",
     "text": [
      "Enter value of x: 29\n",
      "Enter value of y: 34\n",
      "The value of x after swapping: 34\n",
      "The value of y after swapping: 29\n"
     ]
    }
   ],
   "source": [
    "#Answer 4)\n",
    "x = input('Enter value of x: ')\n",
    "y = input('Enter value of y: ')\n",
    "x,y=y,x\n",
    "print('The value of x after swapping: {}'.format(x))\n",
    "print('The value of y after swapping: {}'.format(y))"
   ]
  },
  {
   "cell_type": "markdown",
   "id": "5f5c2bd1",
   "metadata": {},
   "source": [
    "Question5) Write a Python program to generate a random number?"
   ]
  },
  {
   "cell_type": "code",
   "execution_count": 5,
   "id": "14541dd8",
   "metadata": {},
   "outputs": [
    {
     "name": "stdout",
     "output_type": "stream",
     "text": [
      "Enter a random number limit that you want:20\n",
      "7\n"
     ]
    }
   ],
   "source": [
    "#Answer 5)\n",
    "n=int(input(\"Enter a random number limit that you want:\"))\n",
    "import random\n",
    "print(random.randint(0,n))"
   ]
  }
 ],
 "metadata": {
  "kernelspec": {
   "display_name": "Python 3 (ipykernel)",
   "language": "python",
   "name": "python3"
  },
  "language_info": {
   "codemirror_mode": {
    "name": "ipython",
    "version": 3
   },
   "file_extension": ".py",
   "mimetype": "text/x-python",
   "name": "python",
   "nbconvert_exporter": "python",
   "pygments_lexer": "ipython3",
   "version": "3.9.12"
  }
 },
 "nbformat": 4,
 "nbformat_minor": 5
}
