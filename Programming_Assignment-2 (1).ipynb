{
 "cells": [
  {
   "cell_type": "markdown",
   "id": "bfe37c6c",
   "metadata": {},
   "source": [
    "Name : Purnanand Kulkarni"
   ]
  },
  {
   "cell_type": "markdown",
   "id": "0e562484",
   "metadata": {},
   "source": [
    "Programming Assignment 2"
   ]
  },
  {
   "cell_type": "markdown",
   "id": "d9e52a8b",
   "metadata": {},
   "source": [
    "Question-1)Write a Python program to convert kilometers to miles?"
   ]
  },
  {
   "cell_type": "code",
   "execution_count": 1,
   "id": "950b0bc0",
   "metadata": {},
   "outputs": [
    {
     "name": "stdout",
     "output_type": "stream",
     "text": [
      "Enter value in kilometers: 10\n",
      "10.0 kilometer is equal to 6.21371 mile\n"
     ]
    }
   ],
   "source": [
    "#Answer 1)\n",
    "kilometers = float(input(\"Enter value in kilometers: \"))\n",
    "conversion_factor = 0.621371\n",
    "miles = kilometers * conversion_factor\n",
    "print(f\"{kilometers} kilometer is equal to {miles} mile\")"
   ]
  },
  {
   "cell_type": "markdown",
   "id": "ca1ddfdb",
   "metadata": {},
   "source": [
    "Question-2)Write a Python program to convert Celsius to Fahrenheit?"
   ]
  },
  {
   "cell_type": "code",
   "execution_count": 2,
   "id": "1abc570e",
   "metadata": {},
   "outputs": [
    {
     "name": "stdout",
     "output_type": "stream",
     "text": [
      "Temperature value in degree Celsius: 100\n",
      "100.0degree Celsius is equal to 212.0 degree Fahrenheits\n"
     ]
    }
   ],
   "source": [
    "#Answer 2)\n",
    "celsius = float(input(\"Temperature value in degree Celsius: \" ))\n",
    "Fahrenheit = (celsius * 1.8) + 32  \n",
    "print(f\"{celsius}degree Celsius is equal to {Fahrenheit} degree Fahrenheits\")"
   ]
  },
  {
   "cell_type": "markdown",
   "id": "03b5c488",
   "metadata": {},
   "source": [
    "Question-3)Write a Python program to display calendar?"
   ]
  },
  {
   "cell_type": "code",
   "execution_count": 3,
   "id": "c42a2b14",
   "metadata": {},
   "outputs": [
    {
     "name": "stdout",
     "output_type": "stream",
     "text": [
      "Enter year: 2022\n",
      "Enter month: 7\n",
      "     July 2022\n",
      "Mo Tu We Th Fr Sa Su\n",
      "             1  2  3\n",
      " 4  5  6  7  8  9 10\n",
      "11 12 13 14 15 16 17\n",
      "18 19 20 21 22 23 24\n",
      "25 26 27 28 29 30 31\n",
      "\n"
     ]
    }
   ],
   "source": [
    "#Answer 3)\n",
    "import calendar\n",
    "year = int(input(\"Enter year: \"))\n",
    "month = int(input(\"Enter month: \"))\n",
    "print(calendar.month(year, month))"
   ]
  },
  {
   "cell_type": "markdown",
   "id": "667546e1",
   "metadata": {},
   "source": [
    "Question-4)Write a Python program to solve quadratic equation?"
   ]
  },
  {
   "cell_type": "code",
   "execution_count": 4,
   "id": "6d72929f",
   "metadata": {},
   "outputs": [
    {
     "name": "stdout",
     "output_type": "stream",
     "text": [
      "Enter a values which carries variable as x^2:20\n",
      "Enter a values which carries variable as x:10\n",
      "Enter a values which carries coefficient only:5\n",
      "The root are (-0.25-0.43301270189221935j) (-0.25+0.43301270189221935j)\n"
     ]
    }
   ],
   "source": [
    "#Answer 4)\n",
    "import cmath\n",
    "a=int(input(\"Enter a values which carries variable as x^2:\"))\n",
    "b=int(input(\"Enter a values which carries variable as x:\"))\n",
    "c=int(input(\"Enter a values which carries coefficient only:\"))\n",
    "d = (b**2) - (4*a*c)\n",
    "sol1 = (-b-cmath.sqrt(d))/(2*a)\n",
    "sol2 = (-b+cmath.sqrt(d))/(2*a)\n",
    "print(\"The root are\",sol1,sol2)"
   ]
  },
  {
   "cell_type": "markdown",
   "id": "20146d32",
   "metadata": {},
   "source": [
    "Question-5)Write a Python program to swap two variables without temp variable?"
   ]
  },
  {
   "cell_type": "code",
   "execution_count": 6,
   "id": "5b8bcfe8",
   "metadata": {},
   "outputs": [
    {
     "name": "stdout",
     "output_type": "stream",
     "text": [
      "Enter a 1st number:21\n",
      "Enter a 2nd number:45\n",
      "After swaping x = 45, y = 21\n"
     ]
    }
   ],
   "source": [
    "#Answer 5) \n",
    "x=int(input(\"Enter a 1st number:\"))\n",
    "y=int(input(\"Enter a 2nd number:\"))\n",
    "x,y=y,x\n",
    "print(f\"After swaping x = {x}, y = {y}\")"
   ]
  }
 ],
 "metadata": {
  "kernelspec": {
   "display_name": "Python 3 (ipykernel)",
   "language": "python",
   "name": "python3"
  },
  "language_info": {
   "codemirror_mode": {
    "name": "ipython",
    "version": 3
   },
   "file_extension": ".py",
   "mimetype": "text/x-python",
   "name": "python",
   "nbconvert_exporter": "python",
   "pygments_lexer": "ipython3",
   "version": "3.9.12"
  }
 },
 "nbformat": 4,
 "nbformat_minor": 5
}
